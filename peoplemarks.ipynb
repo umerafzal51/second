{
 "cells": [
  {
   "cell_type": "code",
   "execution_count": 1,
   "metadata": {},
   "outputs": [
    {
     "name": "stdout",
     "output_type": "stream",
     "text": [
      "enter your percentage%50\n",
      "C\n"
     ]
    }
   ],
   "source": [
    "per = int(input(\"enter your percentage%\"));\n",
    "if per>80:\n",
    " print(\"A+\")    \n",
    "elif per>=70 and per<=80:\n",
    " print(\"A\")    \n",
    "elif per>=60 and per<=70:\n",
    " print(\"B\")\n",
    "elif per>=50 and per<=60:\n",
    " print(\"C\")\n",
    "elif per>=40 and per<=50:\n",
    " print(\"D\")\n",
    "elif per>33:\n",
    " print(\"E\")\n",
    "elif per<33 and per>0:\n",
    " print(\"Failed\")    \n",
    "else:\n",
    " print(\"you have given inappropiate%\" )\n"
   ]
  },
  {
   "cell_type": "code",
   "execution_count": null,
   "metadata": {},
   "outputs": [],
   "source": []
  }
 ],
 "metadata": {
  "kernelspec": {
   "display_name": "Python 3",
   "language": "python",
   "name": "python3"
  },
  "language_info": {
   "codemirror_mode": {
    "name": "ipython",
    "version": 3
   },
   "file_extension": ".py",
   "mimetype": "text/x-python",
   "name": "python",
   "nbconvert_exporter": "python",
   "pygments_lexer": "ipython3",
   "version": "3.7.4"
  }
 },
 "nbformat": 4,
 "nbformat_minor": 2
}
